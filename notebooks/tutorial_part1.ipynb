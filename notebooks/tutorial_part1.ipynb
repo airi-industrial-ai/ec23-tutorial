{
 "cells": [
  {
   "cell_type": "markdown",
   "metadata": {
    "id": "SdvZs35SAaQU"
   },
   "source": [
    "# Model validation using deep generation of stress data\n",
    "\n",
    "The tutorial consists of two parts. Firstly, we will try to understand why we need such validation and try to use simple deterministic scenarios. The second part will be about generative models and their ability to improve the overall performance of validation.\n",
    "\n",
    "## Recap: supervised learning\n",
    "\n",
    "Supervised learning is a machine learning approach where a model learns to make predictions based on labeled training data. It involves training the model with input examples and corresponding desired outputs, allowing it to generalize and make accurate predictions on new data. There are two main types: classification (assigning examples to categories) and regression (predicting numerical values).\n",
    "\n",
    "<img src=\"tutorial-supervised.png\" alt=\"sl\" style=\"width:600px;\"/>"
   ]
  },
  {
   "cell_type": "markdown",
   "metadata": {
    "id": "F9-nM9jNUBv1"
   },
   "source": [
    "For example, let's consider the MNIST dataset and select only `0`s and `8`s to train a classifier."
   ]
  },
  {
   "cell_type": "code",
   "execution_count": 1,
   "metadata": {},
   "outputs": [],
   "source": [
    "! pip install git+https://github.com/airi-industrial-ai/ec23-tutorial -q"
   ]
  },
  {
   "cell_type": "code",
   "execution_count": 2,
   "metadata": {
    "tags": []
   },
   "outputs": [],
   "source": [
    "from sklearn.ensemble import RandomForestClassifier\n",
    "from sklearn.metrics import roc_auc_score\n",
    "from matplotlib import pyplot as plt\n",
    "from ectutorial.mnist_utils import *"
   ]
  },
  {
   "cell_type": "code",
   "execution_count": 3,
   "metadata": {
    "tags": []
   },
   "outputs": [
    {
     "name": "stderr",
     "output_type": "stream",
     "text": [
      "/Users/mkiseljov/miniconda3/lib/python3.10/site-packages/torchvision/transforms/functional.py:1603: UserWarning: The default value of the antialias parameter of all the resizing transforms (Resize(), RandomResizedCrop(), etc.) will change from None to True in v0.17, in order to be consistent across the PIL and Tensor backends. To suppress this warning, directly pass antialias=True (recommended, future default), antialias=None (current default, which means False for Tensors and True for PIL), or antialias=False (only works on Tensors - PIL will still use antialiasing). This also applies if you are using the inference transforms from the models weights: update the call to weights.transforms(antialias=True).\n",
      "  warnings.warn(\n"
     ]
    }
   ],
   "source": [
    "zeros, eights, rotated_zeros, rotated_eights = get_mnist_0_and_8()"
   ]
  },
  {
   "cell_type": "markdown",
   "metadata": {},
   "source": [
    "Here are some random examples of numbers."
   ]
  },
  {
   "cell_type": "code",
   "execution_count": 4,
   "metadata": {
    "tags": []
   },
   "outputs": [
    {
     "data": {
      "image/png": "[encoded data removed]",
      "text/plain": [
       "<Figure size 640x480 with 4 Axes>"
      ]
     },
     "metadata": {},
     "output_type": "display_data"
    }
   ],
   "source": [
    "vis_random(zeros, eights)"
   ]
  },
  {
   "cell_type": "markdown",
   "metadata": {},
   "source": [
    "Let's convert them into vectors in order to train a Random Forest model."
   ]
  },
  {
   "cell_type": "code",
   "execution_count": 5,
   "metadata": {
    "tags": []
   },
   "outputs": [],
   "source": [
    "X, y = gen_sample(zeros, eights)"
   ]
  },
  {
   "cell_type": "code",
   "execution_count": 6,
   "metadata": {
    "tags": []
   },
   "outputs": [
    {
     "data": {
      "text/plain": [
       "((28, 28), 784)"
      ]
     },
     "execution_count": 6,
     "metadata": {},
     "output_type": "execute_result"
    }
   ],
   "source": [
    "zeros[0].shape, len(X[0])"
   ]
  },
  {
   "cell_type": "code",
   "execution_count": 7,
   "metadata": {
    "tags": []
   },
   "outputs": [
    {
     "data": {
      "text/plain": [
       "array([0., 1., 0., 1., 1., 0., 0., 0., 1., 1.])"
      ]
     },
     "execution_count": 7,
     "metadata": {},
     "output_type": "execute_result"
    }
   ],
   "source": [
    "y[:10]"
   ]
  },
  {
   "cell_type": "markdown",
   "metadata": {},
   "source": [
    "And finally, train the model."
   ]
  },
  {
   "cell_type": "code",
   "execution_count": 8,
   "metadata": {
    "colab": {
     "base_uri": "https://localhost:8080/"
    },
    "id": "PRR1wdvxFIHN",
    "outputId": "e3c44fd5-32c9-49b7-b586-ebe2f07a1729",
    "tags": []
   },
   "outputs": [
    {
     "name": "stdout",
     "output_type": "stream",
     "text": [
      "\n",
      "ROC-AUC Val: 0.9997213671400944\n",
      "\n"
     ]
    }
   ],
   "source": [
    "rfc = RandomForestClassifier()\n",
    "rfc.fit(X[:X.shape[0] // 2], y[:X.shape[0] // 2])\n",
    "preds_val = rfc.predict_proba(X[X.shape[0] // 2:])[:, 1]\n",
    "\n",
    "print(f\"\"\"\n",
    "ROC-AUC Val: {roc_auc_score(y[X.shape[0] // 2:], preds_val)}\n",
    "\"\"\")"
   ]
  },
  {
   "cell_type": "markdown",
   "metadata": {
    "id": "Y4wvaVk_B98H"
   },
   "source": [
    "## Recap: overfitting\n",
    "\n",
    "Overfitting occurs when a machine learning model becomes too complex and performs well on training data but poorly on new, unseen data. It can be addressed by simplifying the model, applying regularization techniques, or using cross-validation to assess performance."
   ]
  },
  {
   "cell_type": "markdown",
   "metadata": {
    "id": "XMu73Q7lUObU"
   },
   "source": [
    "Let's introduce color to MNIST dataset. Suppose that `0`s will be represented in red, and `8`s will be represented in green during the training phase. The performance of the model should not depend on the color of the number, as only the shape should be considered. We are still working with one channel, but we assign different weights to it based on the color: red has a weight of 0.3, green has a weight of 0.59, and blue has a weight of 0.11."
   ]
  },
  {
   "cell_type": "code",
   "execution_count": 9,
   "metadata": {
    "tags": []
   },
   "outputs": [
    {
     "data": {
      "image/png": "[encoded data removed]",
      "text/plain": [
       "<Figure size 640x480 with 4 Axes>"
      ]
     },
     "metadata": {},
     "output_type": "display_data"
    },
    {
     "data": {
      "image/png": "[encoded data removed]",
      "text/plain": [
       "<Figure size 640x480 with 4 Axes>"
      ]
     },
     "metadata": {},
     "output_type": "display_data"
    },
    {
     "data": {
      "image/png": "[encoded data removed]",
      "text/plain": [
       "<Figure size 640x480 with 4 Axes>"
      ]
     },
     "metadata": {},
     "output_type": "display_data"
    },
    {
     "data": {
      "image/png": "[encoded data removed]",
      "text/plain": [
       "<Figure size 640x480 with 4 Axes>"
      ]
     },
     "metadata": {},
     "output_type": "display_data"
    }
   ],
   "source": [
    "vis_colored(zeros[0])\n",
    "vis_grayscale(zeros[0])\n",
    "vis_colored(eights[0])\n",
    "vis_grayscale(eights[0])"
   ]
  },
  {
   "cell_type": "markdown",
   "metadata": {},
   "source": [
    "The different colors have different intensities when converted to grayscale."
   ]
  },
  {
   "cell_type": "code",
   "execution_count": 10,
   "metadata": {
    "tags": []
   },
   "outputs": [
    {
     "data": {
      "image/png": "[encoded data removed]",
      "text/plain": [
       "<Figure size 640x480 with 1 Axes>"
      ]
     },
     "metadata": {},
     "output_type": "display_data"
    }
   ],
   "source": [
    "vis_zero_hist(zeros)"
   ]
  },
  {
   "cell_type": "markdown",
   "metadata": {},
   "source": [
    "Let's generate different splits."
   ]
  },
  {
   "cell_type": "code",
   "execution_count": 11,
   "metadata": {
    "tags": []
   },
   "outputs": [
    {
     "data": {
      "text/plain": [
       "dict_keys(['train', 'train_flipped', 'val', 'test', 'blue'])"
      ]
     },
     "execution_count": 11,
     "metadata": {},
     "output_type": "execute_result"
    }
   ],
   "source": [
    "splits = gen_colored_splits(zeros, eights)\n",
    "splits.keys()"
   ]
  },
  {
   "cell_type": "markdown",
   "metadata": {
    "id": "8OwJBMChUsWZ"
   },
   "source": [
    "Let's evaluate the performance on the same type of data."
   ]
  },
  {
   "cell_type": "code",
   "execution_count": 12,
   "metadata": {
    "colab": {
     "base_uri": "https://localhost:8080/"
    },
    "id": "Qk6cyb1_Urzt",
    "outputId": "7392bb49-a695-4cec-a2dc-c0ef1b093a34",
    "tags": []
   },
   "outputs": [
    {
     "name": "stdout",
     "output_type": "stream",
     "text": [
      "\n",
      "ROC-AUC Val: 1.0\n",
      "\n"
     ]
    }
   ],
   "source": [
    "rfc = RandomForestClassifier()\n",
    "rfc.fit(*splits[\"train\"])\n",
    "\n",
    "X_val, y_val = splits[\"val\"]\n",
    "preds_val = rfc.predict_proba(X_val)[:, 1]\n",
    "\n",
    "print(f\"\"\"\n",
    "ROC-AUC Val: {roc_auc_score(y_val, preds_val)}\n",
    "\"\"\")"
   ]
  },
  {
   "cell_type": "markdown",
   "metadata": {
    "id": "PtbBo_EIZkEb"
   },
   "source": [
    "What if our training data does not contain a certain type of observations?\n",
    "\n",
    "\n",
    "<img src=\"tutorial-supervised-ood.png\" alt=\"ood\" style=\"width:600px;\"/>\n",
    "\n",
    "It is a data distribution shift. Our model has not encountered novel data, so it cannot make proper decisions.\n",
    "\n",
    "For example, we can switch colors between 0s and 8s."
   ]
  },
  {
   "cell_type": "code",
   "execution_count": 13,
   "metadata": {
    "colab": {
     "base_uri": "https://localhost:8080/"
    },
    "id": "LTxL4uY7TR4T",
    "outputId": "dec0deb1-2af2-46bd-9416-ceff087694e7",
    "tags": []
   },
   "outputs": [
    {
     "name": "stdout",
     "output_type": "stream",
     "text": [
      "\n",
      "ROC-AUC Test: 0.08618909644917713\n",
      "\n"
     ]
    }
   ],
   "source": [
    "X_test, y_test = splits[\"test\"]\n",
    "preds_test = rfc.predict_proba(X_test)[:, 1]\n",
    "\n",
    "print(f\"\"\"\n",
    "ROC-AUC Test: {roc_auc_score(y_test, preds_test)}\n",
    "\"\"\")"
   ]
  },
  {
   "cell_type": "markdown",
   "metadata": {
    "id": "er6QSyCMU2qO"
   },
   "source": [
    "Our model has overfitted to the colors and has not learned anything about shapes.\n",
    "\n",
    "The fundamental solution is to increase the diversity of the data and ensure that it can generalize to any situation."
   ]
  },
  {
   "cell_type": "code",
   "execution_count": 14,
   "metadata": {
    "colab": {
     "base_uri": "https://localhost:8080/"
    },
    "id": "IZuGYSZwRQ8E",
    "outputId": "a3f761f8-0767-4a65-eb6f-15bc864b8f69",
    "tags": []
   },
   "outputs": [
    {
     "name": "stdout",
     "output_type": "stream",
     "text": [
      "\n",
      "ROC-AUC Val: 0.9996288444335226\n",
      "ROC-AUC Test: 0.9995615841884935\n",
      "\n"
     ]
    }
   ],
   "source": [
    "X = np.concatenate([splits[\"train\"][0], splits[\"train_flipped\"][0]])\n",
    "y = np.concatenate([splits[\"train\"][1], splits[\"train_flipped\"][1]])\n",
    "\n",
    "rfc = RandomForestClassifier()\n",
    "rfc.fit(X, y)\n",
    "\n",
    "preds_val = rfc.predict_proba(X_val)[:, 1]\n",
    "preds_test = rfc.predict_proba(X_test)[:, 1]\n",
    "\n",
    "print(f\"\"\"\n",
    "ROC-AUC Val: {roc_auc_score(y_val, preds_val)}\n",
    "ROC-AUC Test: {roc_auc_score(y_test, preds_test)}\n",
    "\"\"\")"
   ]
  },
  {
   "cell_type": "markdown",
   "metadata": {
    "id": "yMYir90xU_v0"
   },
   "source": [
    "Now it works much better and can even generalize to new colors."
   ]
  },
  {
   "cell_type": "code",
   "execution_count": 15,
   "metadata": {
    "tags": []
   },
   "outputs": [
    {
     "name": "stdout",
     "output_type": "stream",
     "text": [
      "\n",
      "ROC-AUC Test Blue: 0.9987825618672601\n",
      "\n"
     ]
    }
   ],
   "source": [
    "X_blue, y_blue = splits[\"blue\"]\n",
    "preds_blue = rfc.predict_proba(X_blue)[:, 1]\n",
    "\n",
    "print(f\"\"\"\n",
    "ROC-AUC Test Blue: {roc_auc_score(y_blue, preds_blue)}\n",
    "\"\"\")"
   ]
  },
  {
   "cell_type": "markdown",
   "metadata": {
    "id": "Wy8fjMiHXe4A"
   },
   "source": [
    "## Introducing the Dynamic Component\n",
    "\n",
    "However, there are limitations to our ability to handle data distribution shifts.\n",
    "\n",
    "1. It is possible that we have not considered all possible types of observations (e.g., random crops)."
   ]
  },
  {
   "cell_type": "code",
   "execution_count": 16,
   "metadata": {
    "tags": []
   },
   "outputs": [
    {
     "data": {
      "image/png": "[encoded data removed]",
      "text/plain": [
       "<Figure size 640x480 with 4 Axes>"
      ]
     },
     "metadata": {},
     "output_type": "display_data"
    },
    {
     "data": {
      "image/png": "[encoded data removed]",
      "text/plain": [
       "<Figure size 640x480 with 4 Axes>"
      ]
     },
     "metadata": {},
     "output_type": "display_data"
    }
   ],
   "source": [
    "vis_grayscale(rotated_zeros[0])\n",
    "vis_grayscale(rotated_eights[0])"
   ]
  },
  {
   "cell_type": "code",
   "execution_count": 17,
   "metadata": {
    "colab": {
     "base_uri": "https://localhost:8080/"
    },
    "id": "Evn3v3yjXbYo",
    "outputId": "57453c44-dc66-4065-b48f-d1346ec4eecc",
    "tags": []
   },
   "outputs": [
    {
     "name": "stdout",
     "output_type": "stream",
     "text": [
      "\n",
      "ROC-AUC Test Blue: 0.8250072506585036\n",
      "\n"
     ]
    }
   ],
   "source": [
    "X, y = gen_sample(rotated_zeros, rotated_eights)\n",
    "\n",
    "preds_rotated = rfc.predict_proba(X)[:, 1]\n",
    "\n",
    "print(f\"\"\"\n",
    "ROC-AUC Test Blue: {roc_auc_score(y, preds_rotated)}\n",
    "\"\"\")"
   ]
  },
  {
   "cell_type": "markdown",
   "metadata": {
    "id": "gUv2HFteC7Jy"
   },
   "source": [
    "2. Novel shifts can emerge over time.\n",
    "\n",
    "For instance, a model's performance may initially be excellent but gradually decline over time due to changes in feature distributions.\n",
    "\n",
    "Consider a specific example of a time-series forecasting problem: predicting relative changes in electricity consumption for a given transformer at a station. We have trained a model that demonstrates low error on the validation set, but when tested, the error explodes.\n",
    "\n",
    "<img src=\"loss-dynamics.png\" alt=\"mse\" style=\"width:800px;\"/>\n",
    "\n",
    "This phenomenon is widespread across various domains:\n",
    "\n",
    "1. Images: Features evolution, the emergence of new cameras, and more.\n",
    "2. Recommendation systems: Introduction of new content, trends, and fashion.\n",
    "3. Texts: Introduction of novel words and linguistic shifts.\n",
    "4. Financial data: Business cycles and market fluctuations.\n",
    "5. Telemetry: Changing patterns, failures.\n",
    "\n",
    "<img src=\"https://raw.githubusercontent.com/huaxiuyao/Wild-Time/main/data_description.png\" alt=\"sl\" style=\"width:800px;\"/>\n",
    "\n",
    "_Credits: Yao, Huaxiu, et al. \"Wild-time: A benchmark of in-the-wild distribution shift over time.\" Advances in Neural Information Processing Systems 35 (2022): 10309-10324._\n",
    "\n",
    "\n",
    "The common approach to handle this problem is by adapting to the novel data through techniques such as retraining, fine-tuning the model, or employing online learning. It is also crucial to conduct extensive monitoring to respond at the right moment. However, there are sensitive domains where even minor shifts can have significant consequences. Models that heavily rely on data may encounter challenges when data availability is limited. Furthermore, complex models or time-consuming update procedures can hinder prompt adaptation to distribution shifts.\n",
    "\n",
    "Hence, it is essential to assess model stability and estimate potential performance decline to effectively manage risks associated with distribution shifts. By predicting the possible decline in model performance, we can estimate the financial impact of distribution shifts and allocate resources accordingly."
   ]
  },
  {
   "cell_type": "markdown",
   "metadata": {
    "id": "dlZVk3rKETm2"
   },
   "source": [
    "## Okay, let's see how it looks with real data."
   ]
  },
  {
   "cell_type": "markdown",
   "metadata": {
    "id": "aLnxbF5ehyRy"
   },
   "source": [
    "We will work with the [Electricity Transformer Dataset (ETDataset)](https://github.com/zhouhaoyi/ETDataset/).\n",
    "\n",
    "ETDataset is a collection of time series data that contains the energy consumption information of various transformers. The dataset contains multivariate time series data of the useful and useless loads of high and low-voltage transformers, recorded at different times. It is used for tasks such as time series forecasting, multivariate time series forecasting, and univariate time series forecasting. The dataset has been utilized in various studies, including one that compared the performance of linear models and transformer models."
   ]
  },
  {
   "cell_type": "markdown",
   "metadata": {},
   "source": [
    "It contains the following columns\n",
    "\n",
    "- **date**: The recorded date.\n",
    "- **HUFL**: High UseFul Load.\n",
    "- **HULL**: High UseLess Load.\n",
    "- **MUFL**: Middle UseFul Load.\n",
    "- **MULL**: Middle UseLess Load.\n",
    "- **LUFL**: Low UseFul Load.\n",
    "- **LULL**: Low UseLess Load.\n",
    "- **OT**: Oil Temperature (target)."
   ]
  },
  {
   "cell_type": "markdown",
   "metadata": {},
   "source": [
    "Additionally, we include simple features generated from time, such as the day of the month (dom), day of the week (dom), hour, and month (mnth). We also incorporate a lag of the target variable as a feature."
   ]
  },
  {
   "cell_type": "code",
   "execution_count": 18,
   "metadata": {
    "colab": {
     "base_uri": "https://localhost:8080/",
     "height": 204
    },
    "id": "6-xpOwN_iSfG",
    "outputId": "f9e1f751-e8f3-4030-a55c-202c857df038",
    "tags": []
   },
   "outputs": [
    {
     "data": {
      "text/html": [
       "<div>\n",
       "<style scoped>\n",
       "    .dataframe tbody tr th:only-of-type {\n",
       "        vertical-align: middle;\n",
       "    }\n",
       "\n",
       "    .dataframe tbody tr th {\n",
       "        vertical-align: top;\n",
       "    }\n",
       "\n",
       "    .dataframe thead th {\n",
       "        text-align: right;\n",
       "    }\n",
       "</style>\n",
       "<table border=\"1\" class=\"dataframe\">\n",
       "  <thead>\n",
       "    <tr style=\"text-align: right;\">\n",
       "      <th></th>\n",
       "      <th>HUFL</th>\n",
       "      <th>HULL</th>\n",
       "      <th>MUFL</th>\n",
       "      <th>MULL</th>\n",
       "      <th>LUFL</th>\n",
       "      <th>LULL</th>\n",
       "      <th>OT</th>\n",
       "      <th>dom</th>\n",
       "      <th>dow</th>\n",
       "      <th>hour</th>\n",
       "      <th>mnth</th>\n",
       "      <th>OT-1</th>\n",
       "    </tr>\n",
       "    <tr>\n",
       "      <th>date</th>\n",
       "      <th></th>\n",
       "      <th></th>\n",
       "      <th></th>\n",
       "      <th></th>\n",
       "      <th></th>\n",
       "      <th></th>\n",
       "      <th></th>\n",
       "      <th></th>\n",
       "      <th></th>\n",
       "      <th></th>\n",
       "      <th></th>\n",
       "      <th></th>\n",
       "    </tr>\n",
       "  </thead>\n",
       "  <tbody>\n",
       "    <tr>\n",
       "      <th>2016-07-01 01:00:00</th>\n",
       "      <td>5.693</td>\n",
       "      <td>2.076</td>\n",
       "      <td>1.492</td>\n",
       "      <td>0.426</td>\n",
       "      <td>4.142</td>\n",
       "      <td>1.371</td>\n",
       "      <td>27.787001</td>\n",
       "      <td>1</td>\n",
       "      <td>4</td>\n",
       "      <td>1</td>\n",
       "      <td>7</td>\n",
       "      <td>30.531000</td>\n",
       "    </tr>\n",
       "    <tr>\n",
       "      <th>2016-07-01 02:00:00</th>\n",
       "      <td>5.157</td>\n",
       "      <td>1.741</td>\n",
       "      <td>1.279</td>\n",
       "      <td>0.355</td>\n",
       "      <td>3.777</td>\n",
       "      <td>1.218</td>\n",
       "      <td>27.787001</td>\n",
       "      <td>1</td>\n",
       "      <td>4</td>\n",
       "      <td>2</td>\n",
       "      <td>7</td>\n",
       "      <td>27.787001</td>\n",
       "    </tr>\n",
       "    <tr>\n",
       "      <th>2016-07-01 03:00:00</th>\n",
       "      <td>5.090</td>\n",
       "      <td>1.942</td>\n",
       "      <td>1.279</td>\n",
       "      <td>0.391</td>\n",
       "      <td>3.807</td>\n",
       "      <td>1.279</td>\n",
       "      <td>25.044001</td>\n",
       "      <td>1</td>\n",
       "      <td>4</td>\n",
       "      <td>3</td>\n",
       "      <td>7</td>\n",
       "      <td>27.787001</td>\n",
       "    </tr>\n",
       "    <tr>\n",
       "      <th>2016-07-01 04:00:00</th>\n",
       "      <td>5.358</td>\n",
       "      <td>1.942</td>\n",
       "      <td>1.492</td>\n",
       "      <td>0.462</td>\n",
       "      <td>3.868</td>\n",
       "      <td>1.279</td>\n",
       "      <td>21.948000</td>\n",
       "      <td>1</td>\n",
       "      <td>4</td>\n",
       "      <td>4</td>\n",
       "      <td>7</td>\n",
       "      <td>25.044001</td>\n",
       "    </tr>\n",
       "    <tr>\n",
       "      <th>2016-07-01 05:00:00</th>\n",
       "      <td>5.626</td>\n",
       "      <td>2.143</td>\n",
       "      <td>1.528</td>\n",
       "      <td>0.533</td>\n",
       "      <td>4.051</td>\n",
       "      <td>1.371</td>\n",
       "      <td>21.174000</td>\n",
       "      <td>1</td>\n",
       "      <td>4</td>\n",
       "      <td>5</td>\n",
       "      <td>7</td>\n",
       "      <td>21.948000</td>\n",
       "    </tr>\n",
       "  </tbody>\n",
       "</table>\n",
       "</div>"
      ],
      "text/plain": [
       "                      HUFL   HULL   MUFL   MULL   LUFL   LULL         OT  dom  \\\n",
       "date                                                                            \n",
       "2016-07-01 01:00:00  5.693  2.076  1.492  0.426  4.142  1.371  27.787001    1   \n",
       "2016-07-01 02:00:00  5.157  1.741  1.279  0.355  3.777  1.218  27.787001    1   \n",
       "2016-07-01 03:00:00  5.090  1.942  1.279  0.391  3.807  1.279  25.044001    1   \n",
       "2016-07-01 04:00:00  5.358  1.942  1.492  0.462  3.868  1.279  21.948000    1   \n",
       "2016-07-01 05:00:00  5.626  2.143  1.528  0.533  4.051  1.371  21.174000    1   \n",
       "\n",
       "                     dow  hour  mnth       OT-1  \n",
       "date                                             \n",
       "2016-07-01 01:00:00    4     1     7  30.531000  \n",
       "2016-07-01 02:00:00    4     2     7  27.787001  \n",
       "2016-07-01 03:00:00    4     3     7  27.787001  \n",
       "2016-07-01 04:00:00    4     4     7  25.044001  \n",
       "2016-07-01 05:00:00    4     5     7  21.948000  "
      ]
     },
     "execution_count": 18,
     "metadata": {},
     "output_type": "execute_result"
    }
   ],
   "source": [
    "import pandas as pd\n",
    "import numpy as np\n",
    "from ectutorial.data import get_ett_dataset\n",
    "\n",
    "pd.options.display.max_columns = 22\n",
    "ett = get_ett_dataset(with_features=True)\n",
    "ett.head()"
   ]
  },
  {
   "cell_type": "markdown",
   "metadata": {},
   "source": [
    "We will split the data based on time into training, validation, and test sets."
   ]
  },
  {
   "cell_type": "code",
   "execution_count": 19,
   "metadata": {
    "tags": []
   },
   "outputs": [],
   "source": [
    "val_thresh = int(ett.shape[0] * 0.7)\n",
    "test_thresh = int(ett.shape[0] * 0.85)\n",
    "\n",
    "train_data = ett.iloc[:val_thresh].copy()\n",
    "val_data = ett.iloc[val_thresh:test_thresh].copy()\n",
    "test_data = ett.iloc[test_thresh:].copy()"
   ]
  },
  {
   "cell_type": "markdown",
   "metadata": {},
   "source": [
    "## Dataset shift visualization"
   ]
  },
  {
   "cell_type": "markdown",
   "metadata": {},
   "source": [
    "We can observe differences in the distribution between the training and test sets for almost all variables in the dataset."
   ]
  },
  {
   "cell_type": "code",
   "execution_count": null,
   "metadata": {
    "tags": []
   },
   "outputs": [],
   "source": [
    "original_columns = ett.columns[:7].tolist()\n",
    "\n",
    "_train_plot = train_data[original_columns].iloc[np.random.randint(len(train_data), size=1000)].copy()\n",
    "_train_plot['source'] = 'train'\n",
    "_val_plot = val_data[original_columns].iloc[np.random.randint(len(val_data), size=1000)].copy()\n",
    "_val_plot['source'] = 'val'\n",
    "_test_plot = test_data[original_columns].iloc[np.random.randint(len(test_data), size=1000)].copy()\n",
    "_test_plot['source'] = 'test'\n",
    "\n",
    "import seaborn as sns\n",
    "sns.pairplot(\n",
    "    pd.concat([_train_plot, _val_plot, _test_plot]), \n",
    "    hue='source', \n",
    "    corner=True,\n",
    "    plot_kws={'edgecolor': 'none', 'alpha': 0.5, \"s\": 10},\n",
    ");"
   ]
  },
  {
   "cell_type": "markdown",
   "metadata": {
    "id": "ZFo9a_qJFrbh",
    "tags": []
   },
   "source": [
    "\n",
    "## Lets build simple model"
   ]
  },
  {
   "cell_type": "code",
   "execution_count": null,
   "metadata": {
    "colab": {
     "base_uri": "https://localhost:8080/"
    },
    "id": "hn-dYJ9HkQkZ",
    "outputId": "b13daf49-1d4e-45e0-ddd6-189780b57199",
    "tags": []
   },
   "outputs": [],
   "source": [
    "from sklearn.linear_model import LinearRegression\n",
    "\n",
    "lr = LinearRegression()\n",
    "\n",
    "lr.fit(train_data.drop(\"OT\", axis=1), train_data.OT)\n",
    "\n",
    "preds_val = lr.predict(val_data.drop(\"OT\", axis=1))\n",
    "preds_test = lr.predict(test_data.drop(\"OT\", axis=1))\n",
    "\n",
    "err_val = (val_data.OT - preds_val) ** 2\n",
    "err_test = (test_data.OT - preds_test) ** 2\n",
    "\n",
    "\n",
    "print(f\"\"\"\n",
    "RMSE Val: {np.sqrt(err_val.mean()):.2f}\n",
    "RMSE Test: {np.sqrt(err_test.mean()):.2f}\n",
    "\"\"\")"
   ]
  },
  {
   "cell_type": "markdown",
   "metadata": {
    "id": "y7y76EXdl8dS"
   },
   "source": [
    "We experienced a slight drop in the test results due to shifts in the input data."
   ]
  },
  {
   "cell_type": "markdown",
   "metadata": {
    "id": "W3cU1O4DFazh"
   },
   "source": [
    "## How we can estimate the possible fall?\n",
    "\n",
    "The __worst-case risk__ refers to the highest possible predictive error that a model could make when faced with a worst-case scenario shift in the underlying data distribution. The worst-case risk is important to consider when evaluating a model's robustness to dataset shift because it represents the upper bound of the model's performance and can highlight potential weaknesses or vulnerabilities in the model. A model that performs well under worst-case scenarios is deemed to be more robust and reliable.\n",
    "\n",
    "To estimate it, we need to introduce immutable and mutable variables. __Immutable__ variables keep their distribution unchanged while dataset shifts occur, while __mutable__ variables can have changes. We cannot simply select the observations with the highest loss because it could potentially disrupt the distributions of the immutable variables, which would bias our estimates.\n",
    "\n",
    "To estimate the risk, we split the data into several folds and perform the following steps for each fold:\n",
    "1. Train a model to predict the mean loss of each observation using all features.\n",
    "2. Train a quantile model with a specific rate α on immutable features.\n",
    "3. Identify observations where the predictions of the mean model are higher than the predictions of the quantile model. These observations are considered as shifted ones.\n",
    "4. Apply normalization techniques to obtain a consistent and unbiased estimate of the risk.\n",
    "\n",
    "<img src=\"wcr.png\" alt=\"wcr\" style=\"width:800px;\"/>\n",
    "\n",
    "_Credits: Subbaswamy, Adarsh, Roy Adams, and Suchi Saria. \"Evaluating model\n",
    "    robustness and stability to dataset shift.\" International Conference on Artificial\n",
    "    Intelligence and Statistics. PMLR, 2021._"
   ]
  },
  {
   "cell_type": "code",
   "execution_count": null,
   "metadata": {
    "id": "ZzIipOVrmPew",
    "tags": []
   },
   "outputs": [],
   "source": [
    "import numpy as np\n",
    "from sklearn.model_selection import KFold\n",
    "from sklearn.ensemble import GradientBoostingRegressor\n",
    "from sklearn.ensemble import RandomForestRegressor\n",
    "from sklearn.linear_model import LinearRegression\n",
    "from sklearn.model_selection import train_test_split\n",
    "\n",
    "\n",
    "def ReLU(x):\n",
    "    return x * (x > 0)\n",
    "\n",
    "def worst_case_risk(mu, eta, alpha, h, losses):\n",
    "    return ReLU(mu-eta) / (1-alpha) + eta + h * (losses-mu) / (1-alpha)\n",
    "\n",
    "class ConditionalShiftRisk:\n",
    "    '''\n",
    "    Based on Subbaswamy, Adarsh, Roy Adams, and Suchi Saria. \"Evaluating model\n",
    "    robustness and stability to dataset shift.\" International Conference on Artificial\n",
    "    Intelligence and Statistics. PMLR, 2021.\n",
    "    '''\n",
    "    def __init__(self, alpha, cv, loss_model=None, quantile_model=None):\n",
    "        self.quantile_model = quantile_model\n",
    "        self.loss_model = loss_model\n",
    "        self.alpha = alpha\n",
    "        self.cv = cv\n",
    "        if loss_model is None:\n",
    "            self.loss_model = GradientBoostingRegressor()\n",
    "        if quantile_model is None:\n",
    "            self.quantile_model = GradientBoostingRegressor(loss='quantile', alpha=alpha)\n",
    "\n",
    "    def fit(self, X_val, mutable_columns, immutable_columns, losses):\n",
    "        _val = X_val[mutable_columns + immutable_columns]\n",
    "        self.h = np.zeros_like(losses).astype('bool')\n",
    "        self.eta = np.zeros_like(losses)\n",
    "        self.mu = np.zeros_like(losses)\n",
    "        for train, test in tqdm(KFold(n_splits=self.cv).split(_val), total=self.cv):\n",
    "            self.loss_model.fit(_val.iloc[train], losses.iloc[train])\n",
    "            mu_train = self.loss_model.predict(_val.iloc[train])\n",
    "            mu_test = self.loss_model.predict(_val.iloc[test])\n",
    "            self.mu[test] = mu_test\n",
    "            self.quantile_model.fit(_val.iloc[train][immutable_columns], mu_train)\n",
    "            eta_test = self.quantile_model.predict(_val.iloc[test][immutable_columns])\n",
    "            self.eta[test] = eta_test\n",
    "            self.h[test] = mu_test > eta_test\n",
    "        risk = worst_case_risk(self.mu, self.eta, self.alpha, self.h, losses)\n",
    "        self.risk = risk.mean()\n",
    "        self.ub_risk = self.risk + 1.96 * risk.std() / np.sqrt(losses.shape[0])\n",
    "        self.lb_risk = self.risk - 1.96 * risk.std() / np.sqrt(losses.shape[0])"
   ]
  },
  {
   "cell_type": "markdown",
   "metadata": {
    "id": "4d05Ix56mZZS"
   },
   "source": [
    "We will use features generated from time as immutable because we know it in advance. The rest features may drift over time."
   ]
  },
  {
   "cell_type": "code",
   "execution_count": null,
   "metadata": {
    "colab": {
     "base_uri": "https://localhost:8080/"
    },
    "id": "0936pn-zmatu",
    "outputId": "f2639a86-d61e-45de-8492-c90c3b638af9",
    "tags": []
   },
   "outputs": [],
   "source": [
    "from tqdm import tqdm\n",
    "\n",
    "immutable = [\n",
    "    'hour',\n",
    "    'mnth',\n",
    "    'dow',\n",
    "    'dom',\n",
    "]\n",
    "mutable = [\n",
    "    'MUFL',\n",
    "    'HUFL',\n",
    "    'HULL',\n",
    "    'OT-1',\n",
    "    'MULL',\n",
    "    'LULL',\n",
    "    'LUFL'\n",
    "]\n",
    "\n",
    "mn_log = []\n",
    "lb_log = []\n",
    "ub_log = []\n",
    "\n",
    "for i in range(9):\n",
    "    alpha = (i + 1) / 10\n",
    "    shift_model = ConditionalShiftRisk(\n",
    "      alpha=alpha,\n",
    "      cv=5,\n",
    "      loss_model=LinearRegression(),\n",
    "      quantile_model=GradientBoostingRegressor(loss='quantile', alpha=alpha),\n",
    "    )\n",
    "\n",
    "\n",
    "    losses = pd.Series(err_val)\n",
    "\n",
    "    shift_model.fit(\n",
    "      val_data,\n",
    "      mutable,\n",
    "      immutable,\n",
    "      losses,\n",
    "    )\n",
    "\n",
    "    mn_log.append(shift_model.risk)\n",
    "    lb_log.append(shift_model.lb_risk)\n",
    "    ub_log.append(shift_model.ub_risk)"
   ]
  },
  {
   "cell_type": "markdown",
   "metadata": {
    "id": "KPZuFnvTnCWp"
   },
   "source": [
    "And we can visualize the results"
   ]
  },
  {
   "cell_type": "code",
   "execution_count": null,
   "metadata": {
    "colab": {
     "base_uri": "https://localhost:8080/",
     "height": 345
    },
    "id": "2Lt0ynR5nCul",
    "outputId": "5184afa3-97a8-4722-9c5b-2b4877161047",
    "tags": []
   },
   "outputs": [],
   "source": [
    "plt.figure(figsize=(7, 3), layout='constrained')\n",
    "plt.plot(1 - np.arange(1, 10) / 10, [np.sqrt(i) for i in mn_log], label='Risk')\n",
    "plt.fill_between(1-np.arange(1, 10) / 10, [np.sqrt(i) for i in lb_log], [np.sqrt(i) for i in ub_log], color='b', alpha=.1)\n",
    "plt.hlines([np.sqrt(err_test.mean())], xmin=0.1, xmax=0.9, color=\"C1\", label='Test')\n",
    "\n",
    "plt.xlabel('Subpopulation Size (1-α)')\n",
    "plt.ylabel(\"RMSE\")\n",
    "# plt.ylim(ymin = 0)\n",
    "plt.title(\"Performance\")\n",
    "plt.legend()"
   ]
  },
  {
   "cell_type": "markdown",
   "metadata": {},
   "source": [
    "Let's check the difference between the worst subsample and the remaining observations in the validation set."
   ]
  },
  {
   "cell_type": "code",
   "execution_count": null,
   "metadata": {
    "tags": []
   },
   "outputs": [],
   "source": [
    "shift_model = ConditionalShiftRisk(\n",
    "  alpha=0.4,\n",
    "  cv=5,\n",
    "  loss_model=LinearRegression(),\n",
    "  quantile_model=GradientBoostingRegressor(loss='quantile', alpha=alpha),\n",
    ")\n",
    "\n",
    "shift_model.fit(\n",
    "  val_data,\n",
    "  mutable,\n",
    "  immutable,\n",
    "  losses,\n",
    ")\n",
    "\n",
    "val_data[\"is_worst\"] = shift_model.h\n",
    "_val_plot = val_data[original_columns + [\"is_worst\"]].iloc[np.random.randint(len(val_data), size=1000)].copy()\n",
    "\n",
    "import seaborn as sns\n",
    "sns.pairplot(\n",
    "    _val_plot, \n",
    "    hue='is_worst', \n",
    "    corner=True,\n",
    "    plot_kws={'edgecolor': 'none', 'alpha': 0.5, \"s\": 10},\n",
    "    diag_kws={'common_norm': False}\n",
    ");"
   ]
  },
  {
   "cell_type": "markdown",
   "metadata": {},
   "source": [
    "By selecting the worst-case subsample for different values, we can estimate the magnitude of changes in different variables. These values can then be used as thresholds to make decisions or monitoring regarding model risk."
   ]
  },
  {
   "cell_type": "markdown",
   "metadata": {
    "id": "57HqAHN0GjoJ"
   },
   "source": [
    "## Drawbacks\n",
    "\n",
    "However, worst-case risks work with the original validation data.\n",
    "\n",
    "Worst-case scenarios are often extreme and unrealistic, and they may not reflect the full range of possible dataset shifts that a model could face in real-world applications. This limitation could restrict the use of worst-case risk estimates for evaluating model robustness and stability.\n",
    "\n",
    "Furthermore, real-world time series data often exhibit short ranges and infrequent occurrences. As a result, there is a scarcity of training and validation data, which further widens the confidence interval of estimations."
   ]
  },
  {
   "cell_type": "markdown",
   "metadata": {
    "id": "w-a46DDaGm6L"
   },
   "source": [
    "# See you soon at 12 pm ET\n",
    "\n",
    "We will discuss how to fix the drawbacks using generative models"
   ]
  },
  {
   "cell_type": "code",
   "execution_count": null,
   "metadata": {
    "id": "y_6qfmpxoodb"
   },
   "outputs": [],
   "source": []
  }
 ],
 "metadata": {
  "colab": {
   "collapsed_sections": [
    "Jguvxv4CkknO"
   ],
   "provenance": []
  },
  "kernelspec": {
   "display_name": "Python 3 (ipykernel)",
   "language": "python",
   "name": "python3"
  },
  "language_info": {
   "codemirror_mode": {
    "name": "ipython",
    "version": 3
   },
   "file_extension": ".py",
   "mimetype": "text/x-python",
   "name": "python",
   "nbconvert_exporter": "python",
   "pygments_lexer": "ipython3",
   "version": "3.10.9"
  }
 },
 "nbformat": 4,
 "nbformat_minor": 4
}
