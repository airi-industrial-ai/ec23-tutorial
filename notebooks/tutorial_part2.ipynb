{
 "cells": [
  {
   "cell_type": "markdown",
   "id": "31a9915c",
   "metadata": {},
   "source": [
    "# Model validation using deep generation of stress data: Part 2"
   ]
  },
  {
   "cell_type": "markdown",
   "id": "182a12fd",
   "metadata": {},
   "source": [
    "## Background: generative models"
   ]
  },
  {
   "cell_type": "markdown",
   "id": "89a79c0b",
   "metadata": {},
   "source": [
    "| Discriminative models | Generative models |\n",
    "|:---|:---|\n",
    "|<img src='discriminative_learning.png' width=300>|<img src='generative_learning.png' width=300>|\n",
    "| Aims to predict the label by the given example| Aims to learn the full data distribution by the given subsample |\n",
    "| Learns the probability $y \\sim P(y|X)$ | Learns the probability $X,y \\sim P(X, y)$ |\n",
    "| _Examples of tasks:_ | _Examples of tasks:_ |\n",
    "| 1. Is a cat on the photo? | 1. Find top-5 the most similar cats in the dataset by the given photo |\n",
    "| 2. How old is a person on the photo? | 2. Create a photo of an avocado armchair |\n",
    "| 3. What is the most likely number of tourists the next mounth? | 3. Write an essay on the topic of global warming |\n",
    "| _Examples of models:_ | _Examples of models:_ |\n",
    "| Decision Tree, Support Vector Machine (SVM), Convolutional Neural Network (CNN) | Autoregressive model (AR), Generative Adversarial Network (GAN), Variational Autoencoder (VAE), Generative Pretrained Transformer (GPT)|\n",
    "\n",
    "_An image is taken from https://medium.com/@jordi299/about-generative-and-discriminative-models-d8958b67ad32_"
   ]
  },
  {
   "cell_type": "markdown",
   "id": "e8e24210",
   "metadata": {},
   "source": [
    "Deep generative models are based on deep neural networks.\n",
    "\n",
    "<img src='space_generator.png' width=600>"
   ]
  },
  {
   "cell_type": "markdown",
   "id": "aefc5db9",
   "metadata": {},
   "source": [
    "## Background: Generative Adversarial Network for time series"
   ]
  },
  {
   "attachments": {},
   "cell_type": "markdown",
   "id": "7bdaba19",
   "metadata": {},
   "source": [
    "<img src='gan_for_ts.png' width=600>\n",
    "\n",
    "Generative Adversarial Network (GAN) is a type of models that consists of two neural networks: a generator and a discriminator. \n",
    "\n",
    "* The objective of a generator (G): to create realistic data\n",
    "* The objective of a discriminator (D): to detect fake data\n",
    "\n",
    "Note the multivariate time series as $X = X_1, X_2, \\dots, X_N$, where $X_t \\in R^d$\n",
    "\n",
    "The general objective of GAN is\n",
    "\n",
    "$$\\min_G \\max_D V(D, G) = \\mathbb E_{X} \\log(D(X)) + \\mathbb E_{Z} \\log(1 - D(G(Z))$$"
   ]
  },
  {
   "cell_type": "markdown",
   "id": "55c823fd",
   "metadata": {},
   "source": [
    "In this tutorial we use GAN where a generator and a discriminator are Temporal Convolutional Networks (TCN).\n",
    "\n",
    "<img src='tcn.webp' width=300>\n",
    "\n",
    "_An image is taken from Yan, Jining, et al. \"Temporal convolutional networks for the advance prediction of ENSO.\" Scientific reports 10.1 (2020): 1-15._"
   ]
  },
  {
   "cell_type": "markdown",
   "id": "f6d1e8de",
   "metadata": {},
   "source": [
    "## Generation of time series"
   ]
  },
  {
   "cell_type": "code",
   "execution_count": 1,
   "id": "02e2ed52",
   "metadata": {},
   "outputs": [],
   "source": [
    "!pip install git+https://github.com/airi-industrial-ai/ec23-tutorial -q"
   ]
  },
  {
   "cell_type": "code",
   "execution_count": 2,
   "id": "2e331029",
   "metadata": {},
   "outputs": [
    {
     "name": "stderr",
     "output_type": "stream",
     "text": [
      "/opt/anaconda3/envs/py39/lib/python3.9/site-packages/torchvision/io/image.py:13: UserWarning: Failed to load image Python extension: dlopen(/opt/anaconda3/envs/py39/lib/python3.9/site-packages/torchvision/image.so, 0x0006): Symbol not found: (__ZN3c106detail19maybe_wrap_dim_slowExxb)\n",
      "  Referenced from: '/opt/anaconda3/envs/py39/lib/python3.9/site-packages/torchvision/image.so'\n",
      "  Expected in: '/opt/anaconda3/envs/py39/lib/python3.9/site-packages/torch/lib/libc10.dylib'\n",
      "  warn(f\"Failed to load image Python extension: {e}\")\n"
     ]
    }
   ],
   "source": [
    "import pandas as pd\n",
    "import numpy as np\n",
    "from sklearn.preprocessing import StandardScaler\n",
    "import matplotlib.pyplot as plt\n",
    "import torch\n",
    "from torch.utils.data import DataLoader\n",
    "from pytorch_lightning import Trainer\n",
    "\n",
    "from ectutorial.data import SlidingWindowDataset, get_ett_dataset\n",
    "from ectutorial.gen_models import TCNGANModule"
   ]
  },
  {
   "cell_type": "code",
   "execution_count": null,
   "id": "7c3f717b",
   "metadata": {},
   "outputs": [],
   "source": []
  }
 ],
 "metadata": {
  "kernelspec": {
   "display_name": "Python 3 (ipykernel)",
   "language": "python",
   "name": "python3"
  },
  "language_info": {
   "codemirror_mode": {
    "name": "ipython",
    "version": 3
   },
   "file_extension": ".py",
   "mimetype": "text/x-python",
   "name": "python",
   "nbconvert_exporter": "python",
   "pygments_lexer": "ipython3",
   "version": "3.9.13"
  }
 },
 "nbformat": 4,
 "nbformat_minor": 5
}
